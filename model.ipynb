{
 "cells": [
  {
   "cell_type": "code",
   "execution_count": 52,
   "metadata": {},
   "outputs": [],
   "source": [
    "%matplotlib widget\n",
    "import pynance\n",
    "from pathlib import Path\n",
    "import torch\n",
    "import sklearn\n",
    "import pandas as pd\n",
    "import numpy as np\n",
    "import datetime\n",
    "import matplotlib.pyplot as plt\n",
    "import seaborn as sns\n",
    "\n",
    "saving_timestamp = datetime.datetime.now().strftime(\"%Y%m%d%H%M\")"
   ]
  },
  {
   "cell_type": "code",
   "execution_count": null,
   "metadata": {},
   "outputs": [],
   "source": [
    "# next line should be commented\n",
    "data_path = pynance.utils.user.get_path_to_data()\n",
    "results_path = pynance.utils.user.get_path_to_results()\n",
    "results_path.mkdir(parents=True, exist_ok=True)"
   ]
  },
  {
   "attachments": {},
   "cell_type": "markdown",
   "metadata": {},
   "source": [
    "## Import data using the Data module\n"
   ]
  },
  {
   "cell_type": "code",
   "execution_count": null,
   "metadata": {},
   "outputs": [],
   "source": [
    "start_date = '2015-01-01' # '1999-01-01'\n",
    "end_date = '2023-01-01'\n",
    "market = '^IXIC'\n",
    "x = pynance.data.readers.read_txt('tech_us') + [market]\n",
    "dict_stocks = pynance.data.readers.get_financial_datas(x, start = start_date, end=end_date, conversion = True)\n",
    "df_market = dict_stocks[market]"
   ]
  },
  {
   "cell_type": "code",
   "execution_count": null,
   "metadata": {},
   "outputs": [],
   "source": [
    "df_market"
   ]
  },
  {
   "attachments": {},
   "cell_type": "markdown",
   "metadata": {},
   "source": [
    "## Market stock future prediction\n",
    "\n",
    "Demo notebook. Naive training, plotting etc."
   ]
  },
  {
   "cell_type": "markdown",
   "metadata": {},
   "source": [
    "### Define dataset"
   ]
  },
  {
   "cell_type": "code",
   "execution_count": null,
   "metadata": {},
   "outputs": [],
   "source": [
    "path = data_path / f\"cac40_norm.csv\" # cac40 with Close \"normalize\" (x - mean)/std\n",
    "dtype = torch.float\n",
    "device = torch.device(\"cpu\")\n",
    "window = 100\n",
    "batch_size = 16\n",
    "ratio = 0.8\n",
    "return_type = \"torch\"\n",
    "\n",
    "data_creator = pynance.utils.datasets.creators.StockValuePredictionDatasetCreator(df_market)\n",
    "train_set, valid_set = data_creator.get_train_sets(ratio=ratio, return_type=return_type, window=window)\n",
    "\n",
    "collater = pynance.utils.datasets.collaters.TimeSeriesCollater(dtype=dtype, device=device)\n",
    "\n",
    "training_loader = torch.utils.data.DataLoader(\n",
    "                            train_set,\n",
    "                            batch_size=batch_size,\n",
    "                            shuffle=True,\n",
    "                            num_workers=4,\n",
    "                            collate_fn=collater)\n",
    "validation_loader = torch.utils.data.DataLoader(\n",
    "                            valid_set,\n",
    "                            batch_size=batch_size,\n",
    "                            shuffle=False,\n",
    "                            num_workers=4,\n",
    "                            collate_fn=collater)"
   ]
  },
  {
   "cell_type": "markdown",
   "metadata": {},
   "source": [
    "### Models"
   ]
  },
  {
   "cell_type": "code",
   "execution_count": null,
   "metadata": {},
   "outputs": [],
   "source": [
    "# defining the RNN model\n",
    "rnn = pynance.model.forecasting.TFnaive(\n",
    "    input_size=1,\n",
    "    hidden_size=2,\n",
    "    num_layers=2\n",
    ").to(device=device, dtype=dtype)\n"
   ]
  },
  {
   "cell_type": "markdown",
   "metadata": {},
   "source": [
    "### Training"
   ]
  },
  {
   "cell_type": "code",
   "execution_count": null,
   "metadata": {},
   "outputs": [],
   "source": [
    "# Optim\n",
    "loss_function = torch.nn.MSELoss()\n",
    "optimizer = torch.optim.Adam(rnn.parameters(), lr=0.001)"
   ]
  },
  {
   "cell_type": "code",
   "execution_count": null,
   "metadata": {},
   "outputs": [],
   "source": [
    "pynance.utils.train.train(\n",
    "    epochs=10,\n",
    "    model=rnn,\n",
    "    loss_fn=loss_function,\n",
    "    training_loader=training_loader,\n",
    "    validation_loader=validation_loader,\n",
    "    optimizer=optimizer,\n",
    "    saving_path=results_path,\n",
    "    saving_name=\"nasdaq_1\"\n",
    ")"
   ]
  },
  {
   "cell_type": "markdown",
   "metadata": {},
   "source": [
    "### \"Test\" the model"
   ]
  },
  {
   "cell_type": "code",
   "execution_count": null,
   "metadata": {},
   "outputs": [],
   "source": [
    "state_dict_path = results_path/\"model_state_dict_nasdaq_1_20230108_122337_9.pt\"\n",
    "\n",
    "df = df_market # pd.read_csv(path, parse_dates=[\"Date\"]).sort_values(by=\"Date\")\n",
    "X_test = torch.DoubleTensor(df[\"Close\"].values).to(device=device, dtype=dtype)\n",
    "X_test = torch.unsqueeze(torch.unsqueeze(X_test, dim=0), dim=-1)\n",
    "\n",
    "state_dict = torch.load(state_dict_path)\n",
    "rnn.load_state_dict(state_dict)"
   ]
  },
  {
   "cell_type": "code",
   "execution_count": null,
   "metadata": {},
   "outputs": [],
   "source": [
    "out = rnn.predict(X_test, window=10)"
   ]
  },
  {
   "cell_type": "code",
   "execution_count": null,
   "metadata": {},
   "outputs": [],
   "source": [
    "# to make dates for the predictions\n",
    "# TODO: init_date is not enough in case there is NaN values.\n",
    "# How to handle precisely NaN values ? \n",
    "# I believe we should make an average with the one before and the one after.\n",
    "# See : http://pandas.pydata.org/pandas-docs/stable/user_guide/missing_data.html\n",
    "# Remember : data is perfect, not my job to perform cleaning...\n",
    "def make_dates(init_date, length_preds):\n",
    "    dates = []\n",
    "    dt = datetime.timedelta(days=1.)\n",
    "    date = init_date\n",
    "    while(len(dates) < length_preds):\n",
    "        date += dt\n",
    "        if(date.isoweekday() <= 5):\n",
    "            dates.append(date)\n",
    "    return dates"
   ]
  },
  {
   "cell_type": "code",
   "execution_count": null,
   "metadata": {},
   "outputs": [],
   "source": [
    "preds = torch.cat([out[1], out[0][:, X_test.shape[1]:]], dim=1).cpu().numpy()[0, :, 0]\n",
    "dates = make_dates(df[\"Date\"].iloc[0], len(preds))"
   ]
  },
  {
   "cell_type": "code",
   "execution_count": null,
   "metadata": {},
   "outputs": [],
   "source": [
    "# plotting truth vs predictions\n",
    "fig, ax = plt.subplots()\n",
    "sns.lineplot(data=df, x=\"Date\", y=\"Close\", label=\"true\")\n",
    "sns.lineplot(x=dates, y=preds, label=\"pred\")\n",
    "plt.xticks(rotation=45);"
   ]
  },
  {
   "cell_type": "markdown",
   "metadata": {},
   "source": [
    "## Regression Models"
   ]
  },
  {
   "cell_type": "markdown",
   "metadata": {},
   "source": [
    "### Data"
   ]
  },
  {
   "cell_type": "code",
   "execution_count": null,
   "metadata": {},
   "outputs": [],
   "source": [
    "df = pd.DataFrame({stock: df_[pynance.utils.conventions.close_name] for stock, df_ in dict_stocks.items()}) \n",
    "df[pynance.utils.conventions.date_name] = df.index\n",
    "# TODO: check if nan are handle correctly (in theory yes)"
   ]
  },
  {
   "cell_type": "code",
   "execution_count": null,
   "metadata": {},
   "outputs": [],
   "source": [
    "data_creator = pynance.utils.datasets.creators.StockValueRegressionDatasetCreator(df, df, market=market)"
   ]
  },
  {
   "cell_type": "code",
   "execution_count": null,
   "metadata": {},
   "outputs": [],
   "source": [
    "x_train, x_valid, y_train, y_valid = data_creator.get_train_sets(ratio=0.8, return_type=\"numpy\")"
   ]
  },
  {
   "cell_type": "code",
   "execution_count": null,
   "metadata": {},
   "outputs": [],
   "source": [
    "regs = {}\n",
    "for i, stock in enumerate(x[:-1]):\n",
    "    reg = linear_model.LinearRegression()\n",
    "    reg = reg.fit(x_train, y_train[:, i:i+1])\n",
    "    regs[stock] = reg\n",
    "    score = reg.score(x_valid, y_valid[:, i:i+1])\n",
    "    print(f\"{stock} : {score}\")\n"
   ]
  },
  {
   "cell_type": "code",
   "execution_count": null,
   "metadata": {},
   "outputs": [],
   "source": [
    "dates = data_creator._test_data[\"Date\"]\n",
    "x_test, y_test = data_creator.get_test_set(return_type=\"numpy\")"
   ]
  },
  {
   "cell_type": "code",
   "execution_count": null,
   "metadata": {},
   "outputs": [],
   "source": [
    "fig, ax = plt.subplots(nrows=3, ncols=3, figsize=(12,10), constrained_layout=True)\n",
    "ax = ax.flatten()\n",
    "for i, (stock, reg) in enumerate(regs.items()):\n",
    "    preds = reg.predict(x_test)\n",
    "    sns.lineplot(x=dates, y=np.squeeze(y_test[:, i:i+1]), label=\"truth\", ax=ax[i])\n",
    "    sns.lineplot(x=dates, y=np.squeeze(preds), label=\"pred\", ax=ax[i])\n",
    "    ax[i].set_title(stock)\n",
    "    ax[i].tick_params(labelrotation=45)\n"
   ]
  },
  {
   "cell_type": "code",
   "execution_count": null,
   "metadata": {},
   "outputs": [],
   "source": []
  }
 ],
 "metadata": {
  "kernelspec": {
   "display_name": "Python 3.9.15 ('pie')",
   "language": "python",
   "name": "python3"
  },
  "language_info": {
   "codemirror_mode": {
    "name": "ipython",
    "version": 3
   },
   "file_extension": ".py",
   "mimetype": "text/x-python",
   "name": "python",
   "nbconvert_exporter": "python",
   "pygments_lexer": "ipython3",
   "version": "3.9.15"
  },
  "orig_nbformat": 4,
  "vscode": {
   "interpreter": {
    "hash": "a2eda237a939415d756f2f9f94d1cb5e7e5fac44201882434588461e15d745a1"
   }
  }
 },
 "nbformat": 4,
 "nbformat_minor": 2
}
